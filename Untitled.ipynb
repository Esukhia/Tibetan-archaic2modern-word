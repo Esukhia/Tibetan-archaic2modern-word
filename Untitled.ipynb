{
 "cells": [
  {
   "cell_type": "code",
   "execution_count": 2,
   "id": "outdoor-agenda",
   "metadata": {},
   "outputs": [
    {
     "name": "stdout",
     "output_type": "stream",
     "text": [
      "['སྡོད་པ', 'བཞུགས་པ།']\n",
      "['ཤེས་པ', 'ཆོག་པ', 'འདོད་པ།']\n",
      "['ཤེས་པ']\n"
     ]
    }
   ],
   "source": [
    "words = [\"སྡོད་པའམ་བཞུགས་པ།\", \"ཤེས་པའམ་ཆོག་པའམ་འདོད་པ།\", 'ཤེས་པ']\n",
    "for word in words:\n",
    "    alt_words = word.split('འམ་')\n",
    "    print(alt_words)"
   ]
  },
  {
   "cell_type": "code",
   "execution_count": null,
   "id": "precise-touch",
   "metadata": {},
   "outputs": [],
   "source": []
  }
 ],
 "metadata": {
  "kernelspec": {
   "display_name": "Python 3",
   "language": "python",
   "name": "python3"
  },
  "language_info": {
   "codemirror_mode": {
    "name": "ipython",
    "version": 3
   },
   "file_extension": ".py",
   "mimetype": "text/x-python",
   "name": "python",
   "nbconvert_exporter": "python",
   "pygments_lexer": "ipython3",
   "version": "3.8.10"
  }
 },
 "nbformat": 4,
 "nbformat_minor": 5
}
